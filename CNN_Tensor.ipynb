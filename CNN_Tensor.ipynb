{
  "nbformat": 4,
  "nbformat_minor": 0,
  "metadata": {
    "colab": {
      "name": "CNN-Tensor.ipynb",
      "provenance": [],
      "include_colab_link": true
    },
    "kernelspec": {
      "name": "python3",
      "display_name": "Python 3"
    },
    "language_info": {
      "name": "python"
    }
  },
  "cells": [
    {
      "cell_type": "markdown",
      "metadata": {
        "id": "view-in-github",
        "colab_type": "text"
      },
      "source": [
        "<a href=\"https://colab.research.google.com/github/JoysonPeter006/datascience/blob/main/CNN_Tensor.ipynb\" target=\"_parent\"><img src=\"https://colab.research.google.com/assets/colab-badge.svg\" alt=\"Open In Colab\"/></a>"
      ]
    },
    {
      "cell_type": "code",
      "execution_count": null,
      "metadata": {
        "id": "8J6mJRK3wF87"
      },
      "outputs": [],
      "source": [
        "from sklearn.datasets import load_iris\n",
        "from sklearn.model_selection import train_test_split\n",
        "import tensorflow as f\n",
        "from tensorflow import keras\n",
        "iris=load_iris()\n",
        "x=iris.data\n",
        "y=iris.target\n",
        "x_train,x_test,y_train,y_test=train_test_split(x,y,test_size=.3,random_state=1)"
      ]
    },
    {
      "cell_type": "code",
      "source": [
        "#Model\n",
        "ml=keras.models.Sequential()\n",
        "ml.add(keras.layers.Dense(units=2,activation='relu',input_shape=(4,)))\n",
        "#Hidden Layer\n",
        "ml.add(keras.layers.Dense(units=3,activation='relu'))\n",
        "#Output Layer\n",
        "ml.add(keras.layers.Dense(units=3,activation=\"sigmoid\"))\n",
        "ml.summary()"
      ],
      "metadata": {
        "colab": {
          "base_uri": "https://localhost:8080/"
        },
        "id": "kOdi-b460W-T",
        "outputId": "ba37f12c-22dc-434b-b426-deb246881035"
      },
      "execution_count": null,
      "outputs": [
        {
          "output_type": "stream",
          "name": "stdout",
          "text": [
            "Model: \"sequential_2\"\n",
            "_________________________________________________________________\n",
            " Layer (type)                Output Shape              Param #   \n",
            "=================================================================\n",
            " dense_1 (Dense)             (None, 2)                 10        \n",
            "                                                                 \n",
            " dense_2 (Dense)             (None, 3)                 9         \n",
            "                                                                 \n",
            " dense_3 (Dense)             (None, 3)                 12        \n",
            "                                                                 \n",
            "=================================================================\n",
            "Total params: 31\n",
            "Trainable params: 31\n",
            "Non-trainable params: 0\n",
            "_________________________________________________________________\n"
          ]
        }
      ]
    },
    {
      "cell_type": "code",
      "source": [
        "ml.compile(loss='sparse_categorical_crossentropy',optimizer='adam',metrics=['accuracy'])\n",
        "ml.fit(x_train,y_train)\n",
        "test_loss,test_accuracy=ml.evaluate(x_test,y_test)"
      ],
      "metadata": {
        "colab": {
          "base_uri": "https://localhost:8080/"
        },
        "id": "N_BLGc2r1WBJ",
        "outputId": "5fce1000-bdf9-46d6-e498-e26a6afa0d6e"
      },
      "execution_count": null,
      "outputs": [
        {
          "output_type": "stream",
          "name": "stdout",
          "text": [
            "4/4 [==============================] - 1s 3ms/step - loss: 1.0986 - accuracy: 0.3048\n",
            "2/2 [==============================] - 0s 6ms/step - loss: 1.0989 - accuracy: 0.3111\n"
          ]
        }
      ]
    }
  ]
}